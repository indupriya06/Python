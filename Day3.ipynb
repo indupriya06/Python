{
 "cells": [
  {
   "cell_type": "code",
   "execution_count": 14,
   "id": "b2b6cb11-2dc2-4e54-9ddd-e8941508fa76",
   "metadata": {},
   "outputs": [
    {
     "name": "stdout",
     "output_type": "stream",
     "text": [
      "var is: 60\n"
     ]
    }
   ],
   "source": [
    "# code to call a class method from another method in same class\n",
    "\n",
    "class abc():\n",
    "  def __init__(self,var):\n",
    "    self.var=var\n",
    "  def display(self):\n",
    "    print(\"var is:\",self.var)\n",
    "  def add_value(self):\n",
    "      for i in range(1,self.var+1):\n",
    "          self.var+=5\n",
    "      self.display()\n",
    "\n",
    "obj=abc(10)\n",
    "obj.add_value()"
   ]
  },
  {
   "cell_type": "code",
   "execution_count": 20,
   "id": "77135d72-e4ad-418e-bad6-60d7b77925b1",
   "metadata": {},
   "outputs": [
    {
     "name": "stdout",
     "output_type": "stream",
     "text": [
      "Var is: 10\n",
      "Var is: 200\n"
     ]
    }
   ],
   "source": [
    "#class method, which is calls a function defined global name space\n",
    "def hkh(x):\n",
    "    return x*20\n",
    "class abc():\n",
    "    def __init__(self,var):\n",
    "        self.var=var\n",
    "    def display(self):\n",
    "        print(\"Var is:\",self.var)\n",
    "    def modify(self):\n",
    "        self.var=hkh(self.var)\n",
    "\n",
    "obj=abc(10)\n",
    "obj.display()\n",
    "obj.modify()\n",
    "obj.display()"
   ]
  },
  {
   "cell_type": "code",
   "execution_count": 62,
   "id": "1d1e7e43-926e-4460-b6a4-f2a55a3a9107",
   "metadata": {},
   "outputs": [
    {
     "name": "stdout",
     "output_type": "stream",
     "text": [
      "var is: 10\n",
      "obj has attribute var True\n",
      "After setting value, var is : 55\n",
      "new variable count is created with value 10\n",
      "10\n"
     ]
    },
    {
     "ename": "AttributeError",
     "evalue": "'abc' object has no attribute 'var'",
     "output_type": "error",
     "traceback": [
      "\u001b[1;31m---------------------------------------------------------------------------\u001b[0m",
      "\u001b[1;31mAttributeError\u001b[0m                            Traceback (most recent call last)",
      "Cell \u001b[1;32mIn[62], line 18\u001b[0m\n\u001b[0;32m     16\u001b[0m \u001b[38;5;28mprint\u001b[39m(obj\u001b[38;5;241m.\u001b[39mcount)\n\u001b[0;32m     17\u001b[0m \u001b[38;5;28mdelattr\u001b[39m(obj, \u001b[38;5;124m'\u001b[39m\u001b[38;5;124mvar\u001b[39m\u001b[38;5;124m'\u001b[39m)\n\u001b[1;32m---> 18\u001b[0m \u001b[38;5;28mprint\u001b[39m(\u001b[38;5;124m\"\u001b[39m\u001b[38;5;124mafter deleting:\u001b[39m\u001b[38;5;124m\"\u001b[39m,obj\u001b[38;5;241m.\u001b[39mvar)\n",
      "\u001b[1;31mAttributeError\u001b[0m: 'abc' object has no attribute 'var'"
     ]
    }
   ],
   "source": [
    "'''biltin functions -get ,set,delete\n",
    "getattr(),setattr(),deleteattr()'''\n",
    "class abc():\n",
    "    def __init__(self,var):\n",
    "        self.var=var\n",
    "    def display(self):\n",
    "        print(\"var is:\",self.var)\n",
    "obj=abc(10)\n",
    "obj.display()\n",
    "print(\"obj has attribute var\", hasattr(obj, 'var'))\n",
    "getattr(obj, 'var')\n",
    "setattr(obj, 'var',55)\n",
    "print(\"After setting value, var is :\",obj.var)\n",
    "setattr(obj, 'count', 10)\n",
    "print(\"new variable count is created with value\",obj.count)\n",
    "delattr(obj, 'var')\n",
    "print(\"after deleting:\",obj.var) \n",
    "\n",
    "\n",
    "\n"
   ]
  },
  {
   "cell_type": "code",
   "execution_count": 70,
   "id": "ed28fe4e-cc20-4db5-a2b8-e7786a692a88",
   "metadata": {},
   "outputs": [
    {
     "name": "stdin",
     "output_type": "stream",
     "text": [
      " 10\n",
      " 10\n"
     ]
    },
    {
     "name": "stdout",
     "output_type": "stream",
     "text": [
      "7 0.8422883804630794\n",
      "48.25956933344379\n"
     ]
    }
   ],
   "source": [
    "import math\n",
    "ab=int(input())\n",
    "bc=int(input())\n",
    "ac=math.sqrt((ab**2)+(bc**2))\n",
    "mc=int(ac/2)\n",
    "mbc=math.tan(mc/bc)\n",
    "print(mc,mbc)\n",
    "print(math.degrees(mbc))"
   ]
  },
  {
   "cell_type": "code",
   "execution_count": 82,
   "id": "e19a1d7e-1e77-4f70-a23f-687f3c4372e8",
   "metadata": {},
   "outputs": [
    {
     "name": "stdout",
     "output_type": "stream",
     "text": [
      "var1: 10\n",
      "var2: 12.3456\n",
      "object.__dict__: {'v1': 10, 'v2': 12.3456}\n",
      "object.__doc__: None\n",
      "object.__name__: abc\n",
      "object.__module__: __main__\n",
      "class.__bases__: (<class 'object'>,)\n"
     ]
    }
   ],
   "source": [
    "'''built in class attr\n",
    "1. .__doc__ --- when string doc is not specified no return attr\n",
    "2. .__dict__namespace accesed attributes\n",
    "3. .__name__ returns class attr's name\n",
    "4. .__module__\n",
    "5. .__bases__ inheritance\n",
    "'''\n",
    "class abc():\n",
    "    def __init__(self,v1,v2):\n",
    "        self.v1=v1\n",
    "        self.v2=v2\n",
    "    def display(self):\n",
    "        print(\"var1:\",self.v1)\n",
    "        print(\"var2:\",self.v2)\n",
    "\n",
    "obj=abc(10,12.3456)\n",
    "obj.display()\n",
    "print(\"object.__dict__:\",obj.__dict__)\n",
    "print(\"object.__doc__:\",obj.__doc__)\n",
    "print(\"object.__name__:\",abc.__name__)\n",
    "print(\"object.__module__:\",obj.__module__)\n",
    "print(\"class.__bases__:\",abc.__bases__)"
   ]
  },
  {
   "cell_type": "code",
   "execution_count": 88,
   "id": "e128ea80-ce01-4c7b-9fa8-eb1ed34d492d",
   "metadata": {},
   "outputs": [
    {
     "name": "stdout",
     "output_type": "stream",
     "text": [
      "*****\n",
      "*****\n",
      "*****\n",
      "*****\n",
      "*****\n"
     ]
    }
   ],
   "source": [
    "for i in range(1, 6):\n",
    "    for j in range(1, 6):\n",
    "        print(\"*\", end=\"\") # put any character\n",
    "    print()"
   ]
  },
  {
   "cell_type": "code",
   "execution_count": 96,
   "id": "da1119ae-578b-4fd0-8b8f-d3083806697f",
   "metadata": {},
   "outputs": [
    {
     "name": "stdout",
     "output_type": "stream",
     "text": [
      "*\n",
      "**\n",
      "***\n",
      "****\n",
      "*****\n"
     ]
    }
   ],
   "source": [
    "for i in range(1, 6):\n",
    "    for j in range(1, i + 1):\n",
    "        print(\"*\", end=\"\")\n",
    "    print()"
   ]
  },
  {
   "cell_type": "code",
   "execution_count": 100,
   "id": "535fe3c9-75e9-418f-a12f-ef43f9a8926c",
   "metadata": {},
   "outputs": [
    {
     "name": "stdout",
     "output_type": "stream",
     "text": [
      "    *\n",
      "   **\n",
      "  ***\n",
      " ****\n",
      "*****\n"
     ]
    }
   ],
   "source": [
    "n = 5\n",
    "for i in range(1, n + 1):\n",
    "    for j in range(n - 1, i - 1, -1):\n",
    "        print(\" \", end=\"\")\n",
    "    for k in range(1, i + 1):\n",
    "        print(\"*\", end=\"\")\n",
    "    print()"
   ]
  },
  {
   "cell_type": "code",
   "execution_count": 156,
   "id": "c61ead03-fb40-432a-81c3-525e7f99dda7",
   "metadata": {},
   "outputs": [
    {
     "ename": "TypeError",
     "evalue": "'list' object is not callable",
     "output_type": "error",
     "traceback": [
      "\u001b[1;31m---------------------------------------------------------------------------\u001b[0m",
      "\u001b[1;31mTypeError\u001b[0m                                 Traceback (most recent call last)",
      "Cell \u001b[1;32mIn[156], line 26\u001b[0m\n\u001b[0;32m     23\u001b[0m         \u001b[38;5;28mprint\u001b[39m(\u001b[38;5;124mf\u001b[39m\u001b[38;5;124m\"\u001b[39m\u001b[38;5;132;01m{\u001b[39;00m\u001b[38;5;28mself\u001b[39m\u001b[38;5;241m.\u001b[39mname\u001b[38;5;132;01m}\u001b[39;00m\u001b[38;5;124m got \u001b[39m\u001b[38;5;132;01m{\u001b[39;00m\u001b[38;5;28mself\u001b[39m\u001b[38;5;241m.\u001b[39mmarks\u001b[38;5;132;01m}\u001b[39;00m\u001b[38;5;124m\"\u001b[39m)\n\u001b[0;32m     25\u001b[0m obj1\u001b[38;5;241m=\u001b[39mstudent(\u001b[38;5;124m\"\u001b[39m\u001b[38;5;124mVijay\u001b[39m\u001b[38;5;124m\"\u001b[39m)\n\u001b[1;32m---> 26\u001b[0m obj1\u001b[38;5;241m.\u001b[39m marks()\n\u001b[0;32m     27\u001b[0m obj2\u001b[38;5;241m=\u001b[39mstudent(\u001b[38;5;124m\"\u001b[39m\u001b[38;5;124mAnil\u001b[39m\u001b[38;5;124m\"\u001b[39m)\n\u001b[0;32m     28\u001b[0m obj2\u001b[38;5;241m.\u001b[39mmarks()\n",
      "\u001b[1;31mTypeError\u001b[0m: 'list' object is not callable"
     ]
    }
   ],
   "source": [
    "'''program that uses class as student to store name marks of student, use a list tostore marks of three subjects constraints:\n",
    "1. take class as student\n",
    "2. create a constructor for student name\n",
    "3. create function for marks to be entered manually within the class function and add marks to the list\n",
    "4. display student name and marks\n",
    "5. pass the object sttributes of two student names\n",
    "test cases:\n",
    "obj1:\"Vijay\"\n",
    "obj2:\"Anil\"\n",
    "output:\n",
    "Vijay got[88,98,79]\n",
    "Anil got[98,97,99]\n",
    "'''\n",
    "class student:\n",
    "    def __init__(self,name):\n",
    "        self.name=name\n",
    "        self.marks=[]\n",
    "    def marks(self):\n",
    "        for i in range(0,3):\n",
    "            n=int(input())\n",
    "            self.marks.append(n)\n",
    "    def display(self):\n",
    "        print(f\"{self.name} got {self.marks}\")\n",
    "\n",
    "obj1=student(\"Vijay\")\n",
    "obj1. marks()\n",
    "obj2=student(\"Anil\")\n",
    "obj2.marks()\n",
    "obj1.display()\n",
    "obj2.display()"
   ]
  },
  {
   "cell_type": "code",
   "execution_count": 190,
   "id": "5781b8f9-7e8e-4d36-9d05-ad475c3faa55",
   "metadata": {},
   "outputs": [
    {
     "ename": "NameError",
     "evalue": "name 'pi' is not defined",
     "output_type": "error",
     "traceback": [
      "\u001b[1;31m---------------------------------------------------------------------------\u001b[0m",
      "\u001b[1;31mNameError\u001b[0m                                 Traceback (most recent call last)",
      "Cell \u001b[1;32mIn[190], line 8\u001b[0m\n\u001b[0;32m      1\u001b[0m \u001b[38;5;124;03m'''program that has a circle class, use a class variable to define the value of constant pi.\u001b[39;00m\n\u001b[0;32m      2\u001b[0m \u001b[38;5;124;03muse this class variable to calculate the area and circumference of cirle with radius\u001b[39;00m\n\u001b[0;32m      3\u001b[0m \u001b[38;5;124;03mconstraint:\u001b[39;00m\n\u001b[0;32m      4\u001b[0m \u001b[38;5;124;03mpi with class variable as 3.14159\u001b[39;00m\n\u001b[0;32m      5\u001b[0m \u001b[38;5;124;03mradius =7.5\u001b[39;00m\n\u001b[0;32m      6\u001b[0m \u001b[38;5;124;03mreturn area and circum value to main program by creating function with in the class respectively'''\u001b[39;00m\n\u001b[1;32m----> 8\u001b[0m \u001b[38;5;28;01mclass\u001b[39;00m \u001b[38;5;21;01mcircle\u001b[39;00m(pi):\n\u001b[0;32m      9\u001b[0m     pi\u001b[38;5;241m=\u001b[39m\u001b[38;5;241m3.14159\u001b[39m\n\u001b[0;32m     10\u001b[0m     \u001b[38;5;28;01mdef\u001b[39;00m \u001b[38;5;21m__init__\u001b[39m(\u001b[38;5;28mself\u001b[39m,radius):\n",
      "\u001b[1;31mNameError\u001b[0m: name 'pi' is not defined"
     ]
    }
   ],
   "source": [
    "'''program that has a circle class, use a class variable to define the value of constant pi.\n",
    "use this class variable to calculate the area and circumference of cirle with radius\n",
    "constraint:\n",
    "pi with class variable as 3.14159\n",
    "radius =7.5\n",
    "return area and circum value to main program by creating function with in the class respectively'''\n",
    "\n",
    "class circle(pi):\n",
    "    pi=3.14159\n",
    "    def __init__(self,radius):\n",
    "        self.radius=radius\n",
    "    def area(self):\n",
    "        self.area=pi*self.radius*self.radius\n",
    "        print(\"Area of circle is:\",self.area)\n",
    "    def circum(self):\n",
    "        self.circum=2*pi*self.radius\n",
    "        print(\"Circumference of circle is:\",self.circum)\n",
    "    def display(self):\n",
    "        print(\"Area of circle is:\",self.area)\n",
    "        print(\"Circumference of circle is:\",self.circum)\n",
    "obj=circle(7.5)\n",
    "obj.area()\n",
    "obj.circum()"
   ]
  },
  {
   "cell_type": "code",
   "execution_count": null,
   "id": "06caf752-2881-452f-ac19-f7958e6dae48",
   "metadata": {},
   "outputs": [],
   "source": []
  },
  {
   "cell_type": "code",
   "execution_count": null,
   "id": "ebe63808-2c96-4187-b7d7-680bcafa5f3b",
   "metadata": {},
   "outputs": [],
   "source": []
  },
  {
   "cell_type": "code",
   "execution_count": null,
   "id": "ae6abfbd-49b4-4cc3-a186-9ded2f4bc13a",
   "metadata": {},
   "outputs": [],
   "source": []
  },
  {
   "cell_type": "code",
   "execution_count": null,
   "id": "92d169fb-1e0f-4e5a-8272-3f3ea197e85f",
   "metadata": {},
   "outputs": [],
   "source": []
  },
  {
   "cell_type": "code",
   "execution_count": null,
   "id": "f7f5fe27-b8a8-42c6-9acf-ee5e529dc82c",
   "metadata": {},
   "outputs": [],
   "source": []
  },
  {
   "cell_type": "code",
   "execution_count": null,
   "id": "77ac2369-e899-4ea7-9d7b-fb48935e9468",
   "metadata": {},
   "outputs": [],
   "source": []
  },
  {
   "cell_type": "code",
   "execution_count": null,
   "id": "782c0939-40f6-4f90-9586-71262be35ae1",
   "metadata": {},
   "outputs": [],
   "source": []
  }
 ],
 "metadata": {
  "kernelspec": {
   "display_name": "Python 3 (ipykernel)",
   "language": "python",
   "name": "python3"
  },
  "language_info": {
   "codemirror_mode": {
    "name": "ipython",
    "version": 3
   },
   "file_extension": ".py",
   "mimetype": "text/x-python",
   "name": "python",
   "nbconvert_exporter": "python",
   "pygments_lexer": "ipython3",
   "version": "3.12.7"
  }
 },
 "nbformat": 4,
 "nbformat_minor": 5
}
