{
 "cells": [
  {
   "cell_type": "markdown",
   "id": "0afee457-376c-4ebb-b945-093993815a56",
   "metadata": {},
   "source": [
    "errors and exceptions\n",
    "types of errors/exceptions\n",
    "try - blocks\n",
    "except\n",
    "finally\n",
    "raising exception\n",
    "built-in functions"
   ]
  },
  {
   "cell_type": "code",
   "execution_count": 1,
   "id": "fa1bb605-9558-4306-b85b-308f4cb3dacf",
   "metadata": {},
   "outputs": [
    {
     "ename": "ZeroDivisionError",
     "evalue": "division by zero",
     "output_type": "error",
     "traceback": [
      "\u001b[1;31m---------------------------------------------------------------------------\u001b[0m",
      "\u001b[1;31mZeroDivisionError\u001b[0m                         Traceback (most recent call last)",
      "Cell \u001b[1;32mIn[1], line 1\u001b[0m\n\u001b[1;32m----> 1\u001b[0m \u001b[38;5;28mprint\u001b[39m(\u001b[38;5;241m2\u001b[39m\u001b[38;5;241m/\u001b[39m\u001b[38;5;241m0\u001b[39m)\n",
      "\u001b[1;31mZeroDivisionError\u001b[0m: division by zero"
     ]
    }
   ],
   "source": [
    "print(2/0)"
   ]
  },
  {
   "cell_type": "code",
   "execution_count": 3,
   "id": "a050530a-44c2-48b3-a518-a6c379c70cfa",
   "metadata": {},
   "outputs": [
    {
     "ename": "TypeError",
     "evalue": "can only concatenate str (not \"int\") to str",
     "output_type": "error",
     "traceback": [
      "\u001b[1;31m---------------------------------------------------------------------------\u001b[0m",
      "\u001b[1;31mTypeError\u001b[0m                                 Traceback (most recent call last)",
      "Cell \u001b[1;32mIn[3], line 1\u001b[0m\n\u001b[1;32m----> 1\u001b[0m \u001b[38;5;28mprint\u001b[39m(\u001b[38;5;124m'\u001b[39m\u001b[38;5;124mindu\u001b[39m\u001b[38;5;124m'\u001b[39m\u001b[38;5;241m+\u001b[39m\u001b[38;5;241m34\u001b[39m)\n",
      "\u001b[1;31mTypeError\u001b[0m: can only concatenate str (not \"int\") to str"
     ]
    }
   ],
   "source": [
    "print('indu'+34)"
   ]
  },
  {
   "cell_type": "code",
   "execution_count": 9,
   "id": "4a239edc-77c9-43c8-96cd-4bdadf4a03c8",
   "metadata": {},
   "outputs": [
    {
     "name": "stdin",
     "output_type": "stream",
     "text": [
      "enter the numerator: 6\n",
      "enter the denominator: 8\n"
     ]
    },
    {
     "name": "stdout",
     "output_type": "stream",
     "text": [
      "quotient: 0.75\n"
     ]
    }
   ],
   "source": [
    "#handling zero division error\n",
    "num= int(input(\"enter the numerator:\"))\n",
    "deno=int(input(\"enter the denominator:\"))\n",
    "try:\n",
    "    quo=num/deno\n",
    "    print(\"quotient:\",quo)\n",
    "except ZeroDivisionError:\n",
    "    print(\"denominator can not be zero\")"
   ]
  },
  {
   "cell_type": "code",
   "execution_count": 91,
   "id": "a7bd5207-c995-400a-b86c-5617f254a210",
   "metadata": {},
   "outputs": [
    {
     "name": "stdin",
     "output_type": "stream",
     "text": [
      "enter a number: 4\n"
     ]
    },
    {
     "name": "stdout",
     "output_type": "stream",
     "text": [
      "16\n"
     ]
    }
   ],
   "source": [
    "#multiple exception handling\n",
    "try:\n",
    "    num=int(input(\"enter a number:\"))\n",
    "    print(num**2)\n",
    "except (KeyboardInterrupt,ValueError,TypeError):\n",
    "    print(\"Please check before you enter...program end\")\n"
   ]
  },
  {
   "cell_type": "code",
   "execution_count": 39,
   "id": "75a02164-87ad-4cb2-93f7-5fc0f53ca392",
   "metadata": {},
   "outputs": [
    {
     "name": "stdout",
     "output_type": "stream",
     "text": [
      "4\n",
      "even executing perfectly...exception raised manually\n"
     ]
    }
   ],
   "source": [
    "#raise an exception \n",
    "try:\n",
    "    num=4\n",
    "    print(num)\n",
    "    raise ValueError\n",
    "except:\n",
    "    print(\"even executing perfectly...exception raised manually\")"
   ]
  },
  {
   "cell_type": "code",
   "execution_count": 43,
   "id": "b7ba77b6-9dca-429a-b810-18b906a236ef",
   "metadata": {},
   "outputs": [
    {
     "name": "stdout",
     "output_type": "stream",
     "text": [
      "re-raise\n"
     ]
    },
    {
     "ename": "NameError",
     "evalue": "",
     "output_type": "error",
     "traceback": [
      "\u001b[1;31m---------------------------------------------------------------------------\u001b[0m",
      "\u001b[1;31mNameError\u001b[0m                                 Traceback (most recent call last)",
      "Cell \u001b[1;32mIn[43], line 3\u001b[0m\n\u001b[0;32m      1\u001b[0m \u001b[38;5;66;03m#re-raise an error\u001b[39;00m\n\u001b[0;32m      2\u001b[0m \u001b[38;5;28;01mtry\u001b[39;00m:\n\u001b[1;32m----> 3\u001b[0m     \u001b[38;5;28;01mraise\u001b[39;00m \u001b[38;5;167;01mNameError\u001b[39;00m\n\u001b[0;32m      4\u001b[0m \u001b[38;5;28;01mexcept\u001b[39;00m:\n\u001b[0;32m      5\u001b[0m     \u001b[38;5;28mprint\u001b[39m(\u001b[38;5;124m\"\u001b[39m\u001b[38;5;124mre-raise\u001b[39m\u001b[38;5;124m\"\u001b[39m)\n",
      "\u001b[1;31mNameError\u001b[0m: "
     ]
    }
   ],
   "source": [
    "#re-raise an error\n",
    "try:\n",
    "    raise NameError\n",
    "except:\n",
    "    print(\"re-raise\")\n",
    "    raise"
   ]
  },
  {
   "cell_type": "code",
   "execution_count": 67,
   "id": "a4bbcf61-a7a9-479f-b6c6-8ff89aa8fe41",
   "metadata": {},
   "outputs": [
    {
     "name": "stdout",
     "output_type": "stream",
     "text": [
      "<class 'Exception'>\n",
      "('hi', 'students', 'good morning')\n",
      "('hi', 'students', 'good morning')\n",
      "Assigned1: hi\n",
      "Assigned2: students\n"
     ]
    }
   ],
   "source": [
    "#instance using in exceptions\n",
    "try:\n",
    "    raise Exception('hi','students','good morning')\n",
    "except Exception as errorObj:\n",
    "    print(type(errorObj))\n",
    "    print(errorObj.args)\n",
    "    print(errorObj)\n",
    "    x,y,z=errorObj.args\n",
    "    print(\"Assigned1:\",x)\n",
    "    print(\"Assigned2:\",y)"
   ]
  },
  {
   "cell_type": "code",
   "execution_count": 81,
   "id": "80ca1d7a-dc1b-4639-a8e9-5a80a1926b7d",
   "metadata": {},
   "outputs": [
    {
     "name": "stdin",
     "output_type": "stream",
     "text": [
      "enter numerator 7\n",
      "enter denominator 0\n"
     ]
    },
    {
     "name": "stdout",
     "output_type": "stream",
     "text": [
      "non-processed\n"
     ]
    }
   ],
   "source": [
    "def div(n,d):\n",
    "    try:\n",
    "        q=n/d\n",
    "        print(q)\n",
    "    except ZeroDivisionError:\n",
    "        print(\"non-processed\")\n",
    "a=int(input(\"enter numerator\"))\n",
    "b=int(input(\"enter denominator\"))\n",
    "div(a,b)"
   ]
  },
  {
   "cell_type": "markdown",
   "id": "ad6e62c9-2f70-4110-8937-6637b6015600",
   "metadata": {},
   "source": [
    "Exception-base class / all exceptions\n",
    "SystemExit-sys.exit()\n",
    "StandardError-except sys.exit()/StopIteration\n",
    "OverflowError-numeric type errors exceeds limit\n",
    "ArithmeticError - base class for all calculations\n",
    "IoError - import file error\n",
    "FloatingPointError\n",
    "AttributeError\n",
    "ImportError\n",
    "AssertionError\n",
    "KeyError\n",
    "EnvironmentError\n",
    "IndexError\n",
    "StopIterationError\n",
    "EOFError\n",
    "LookupError\n",
    "SyntaxError\n",
    "SystemError\n",
    "IndentationError"
   ]
  },
  {
   "cell_type": "code",
   "execution_count": null,
   "id": "2cb463ac-b33f-4f09-bcba-15802d3a444c",
   "metadata": {},
   "outputs": [],
   "source": [
    "'''code to create a sub-class of exception class to handle errors'''\n"
   ]
  },
  {
   "cell_type": "code",
   "execution_count": 85,
   "id": "a6f6bdad-1835-476c-b9ca-7af077f173a0",
   "metadata": {},
   "outputs": [
    {
     "name": "stdout",
     "output_type": "stream",
     "text": [
      "returned string is: 99\n",
      "<class 'int'>\n"
     ]
    }
   ],
   "source": [
    "class myError(Exception):\n",
    "    def __init__(self,value):\n",
    "        self.value=value\n",
    "    def __str__(self):\n",
    "        return repr(self.value)\n",
    "try:\n",
    "    raise myError(99)\n",
    "except myError as e:\n",
    "    print(\"returned string is:\",e.value)\n",
    "    print(type(e.value))"
   ]
  },
  {
   "cell_type": "code",
   "execution_count": 87,
   "id": "7b611138-1312-45d3-bdb8-8bda82d06057",
   "metadata": {},
   "outputs": [
    {
     "name": "stdout",
     "output_type": "stream",
     "text": [
      "raise exception\n",
      "performing cleanup by finally\n"
     ]
    },
    {
     "ename": "ValueError",
     "evalue": "",
     "output_type": "error",
     "traceback": [
      "\u001b[1;31m---------------------------------------------------------------------------\u001b[0m",
      "\u001b[1;31mValueError\u001b[0m                                Traceback (most recent call last)",
      "Cell \u001b[1;32mIn[87], line 3\u001b[0m\n\u001b[0;32m      1\u001b[0m \u001b[38;5;28;01mtry\u001b[39;00m:\n\u001b[0;32m      2\u001b[0m     \u001b[38;5;28mprint\u001b[39m(\u001b[38;5;124m'\u001b[39m\u001b[38;5;124mraise exception\u001b[39m\u001b[38;5;124m'\u001b[39m)\n\u001b[1;32m----> 3\u001b[0m     \u001b[38;5;28;01mraise\u001b[39;00m \u001b[38;5;167;01mValueError\u001b[39;00m\n\u001b[0;32m      4\u001b[0m \u001b[38;5;28;01mfinally\u001b[39;00m:\n\u001b[0;32m      5\u001b[0m     \u001b[38;5;28mprint\u001b[39m(\u001b[38;5;124m\"\u001b[39m\u001b[38;5;124mperforming cleanup by finally\u001b[39m\u001b[38;5;124m\"\u001b[39m)\n",
      "\u001b[1;31mValueError\u001b[0m: "
     ]
    }
   ],
   "source": [
    "try:\n",
    "    print('raise exception')\n",
    "    raise ValueError\n",
    "finally:\n",
    "    print(\"performing cleanup by finally\")"
   ]
  },
  {
   "cell_type": "code",
   "execution_count": 89,
   "id": "03995994-f8a3-4412-b725-3111f429f713",
   "metadata": {},
   "outputs": [
    {
     "name": "stdout",
     "output_type": "stream",
     "text": [
      "abc\n",
      "123\n",
      "abc123\n"
     ]
    }
   ],
   "source": [
    "try:\n",
    "    print(\"abc\")  #raise exception\n",
    "    raise ValueError\n",
    "except:\n",
    "    print('123')  #receive exception\n",
    "finally:\n",
    "    print('abc123')  #ignore process"
   ]
  },
  {
   "cell_type": "code",
   "execution_count": 105,
   "id": "96efcec6-6854-491f-8e6d-552c18d07722",
   "metadata": {},
   "outputs": [
    {
     "name": "stdout",
     "output_type": "stream",
     "text": [
      "\n",
      " === Calculator Menu ==== \n",
      "\n",
      "1.Addition(+)\n",
      "2.subtrction(-)\n",
      "3.multiplication(*)\n",
      "4.division(/)\n",
      "5.exponent(**)\n",
      "6.modulus(%)\n",
      "7.floor division(//)\n"
     ]
    },
    {
     "name": "stdin",
     "output_type": "stream",
     "text": [
      "select an operation(1-8): 3\n",
      "enter 1st number: 4\n",
      "enter 2nd number: 5\n"
     ]
    },
    {
     "name": "stdout",
     "output_type": "stream",
     "text": [
      "Result: 20.0\n",
      "\n",
      " === Calculator Menu ==== \n",
      "\n",
      "1.Addition(+)\n",
      "2.subtrction(-)\n",
      "3.multiplication(*)\n",
      "4.division(/)\n",
      "5.exponent(**)\n",
      "6.modulus(%)\n",
      "7.floor division(//)\n"
     ]
    },
    {
     "name": "stdin",
     "output_type": "stream",
     "text": [
      "select an operation(1-8): 8\n"
     ]
    },
    {
     "name": "stdout",
     "output_type": "stream",
     "text": [
      "Exit\n"
     ]
    }
   ],
   "source": [
    "#interactive calc model with python operation\n",
    "'''using class exceptions modules'''\n",
    "class Calculator:\n",
    "    def __init__(self):\n",
    "        self.one=0\n",
    "        self.two=0\n",
    "    def input_numbers(self):\n",
    "        try:\n",
    "            self.one=float(input(\"enter 1st number:\"))\n",
    "            self.two=float(input(\"enter 2nd number:\"))\n",
    "        except ValueError:\n",
    "            print(\"Invalid input....please enter numbers\")\n",
    "            self.input_numbers()\n",
    "    def add(self):\n",
    "        return self.one + self.two\n",
    "    def subtract(self):\n",
    "        return self.one-self.two\n",
    "    def multiply(self):\n",
    "        return self.one*self.two\n",
    "    def division(self):\n",
    "        if self.two==0:\n",
    "            raise ZeroDivisionError(\"cannot divide with zero\")\n",
    "        return self.one/self.two\n",
    "    def modulo(self):\n",
    "        return self.one%self.two\n",
    "    def expo(self):\n",
    "        return self.one**self.two\n",
    "    def floor_division(self):\n",
    "        return self.one//self.two\n",
    "def display_menu():\n",
    "    print(\"\\n === Calculator Menu ==== \\n\")\n",
    "    print(\"1.Addition(+)\")\n",
    "    print(\"2.subtrction(-)\")\n",
    "    print(\"3.multiplication(*)\")\n",
    "    print(\"4.division(/)\")\n",
    "    print(\"5.exponent(**)\")\n",
    "    print(\"6.modulus(%)\")\n",
    "    print(\"7.floor division(//)\")\n",
    "def main():\n",
    "    calc=Calculator()\n",
    "    while True:\n",
    "        display_menu()\n",
    "        choice=input(\"select an operation(1-8):\")\n",
    "        if choice == '8':\n",
    "            print(\"Exit\")\n",
    "            break\n",
    "        calc.input_numbers()\n",
    "        try:\n",
    "            if choice=='1':\n",
    "                print(\"result:\",calc.add())\n",
    "            elif choice=='2':\n",
    "                print(\"Result:\",calc.subtract())\n",
    "            elif choice=='3':\n",
    "                print(\"Result:\",calc.multiply())\n",
    "            elif choice=='4':\n",
    "                print(\"Result:\",calc.division())\n",
    "            elif choice=='5':\n",
    "                print(\"Result:\",calc.modulo())\n",
    "            elif choice=='6':\n",
    "                print(\"Result:\",cal.expo())\n",
    "            elif choice=='7':\n",
    "                print(\"Result:\",cal.floor_division())\n",
    "            else:\n",
    "                print(\"invalid choice, select from 1-8\")\n",
    "        except ZeroDivisionError as e:\n",
    "            print(\"Error:\",e)\n",
    "        except Exception as e:\n",
    "            print(\"Unexpected error\",e)\n",
    "main()\n",
    "                "
   ]
  },
  {
   "cell_type": "code",
   "execution_count": null,
   "id": "93c356c5-687d-4b35-b319-740016b876c1",
   "metadata": {},
   "outputs": [],
   "source": []
  }
 ],
 "metadata": {
  "kernelspec": {
   "display_name": "Python 3 (ipykernel)",
   "language": "python",
   "name": "python3"
  },
  "language_info": {
   "codemirror_mode": {
    "name": "ipython",
    "version": 3
   },
   "file_extension": ".py",
   "mimetype": "text/x-python",
   "name": "python",
   "nbconvert_exporter": "python",
   "pygments_lexer": "ipython3",
   "version": "3.12.7"
  }
 },
 "nbformat": 4,
 "nbformat_minor": 5
}
