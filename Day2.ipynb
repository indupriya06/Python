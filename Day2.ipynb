{
 "cells": [
  {
   "cell_type": "code",
   "execution_count": 1,
   "id": "64a7dcc9-27af-457c-a2ad-544fa9993c44",
   "metadata": {},
   "outputs": [
    {
     "name": "stdout",
     "output_type": "stream",
     "text": [
      "100\n",
      "This is a class method\n"
     ]
    }
   ],
   "source": [
    " class abc():\n",
    "     var = 100\n",
    "     def display(self):\n",
    "         print(\"This is a class method\")\n",
    "obj = abc()\n",
    "print(obj.var)\n",
    "obj.display()"
   ]
  },
  {
   "cell_type": "code",
   "execution_count": 9,
   "id": "bf514b0e-6518-45f8-9829-ade5715fce4c",
   "metadata": {},
   "outputs": [
    {
     "name": "stdout",
     "output_type": "stream",
     "text": [
      "This is a class method\n",
      "The value is : 10\n"
     ]
    }
   ],
   "source": [
    "#class constructor __init__(method)\n",
    "class abc():\n",
    "    def __init__(self,val):\n",
    "        print(\"This is a class method\")\n",
    "        self.val=val\n",
    "        print(\"The value is :\",val)\n",
    "obj=abc(10)"
   ]
  },
  {
   "cell_type": "code",
   "execution_count": 11,
   "id": "c959036d-d4a0-4f71-8156-c646e49ef453",
   "metadata": {},
   "outputs": [
    {
     "name": "stdout",
     "output_type": "stream",
     "text": [
      "object var: 10\n",
      "class  var: 1\n",
      "object var: 20\n",
      "class  var: 2\n",
      "object var: 30\n",
      "class  var: 3\n"
     ]
    }
   ],
   "source": [
    "#class obj variables\n",
    "class abc():\n",
    "    cv = 0\n",
    "    def __init__(self,var):\n",
    "        abc.cv+=1\n",
    "        self.var=var\n",
    "        print(\"object var:\",var)\n",
    "        print(\"class  var:\",abc.cv)\n",
    "obj=abc(10)\n",
    "obj=abc(20)\n",
    "obj=abc(30)"
   ]
  },
  {
   "cell_type": "markdown",
   "id": "463e15fa-3974-4b14-8c31-87b2d1602155",
   "metadata": {},
   "source": [
    " code illustrate the modification of an instancevariable to check whether the passing attribute is even or odd, by creating a class number and function to check even or odd\n"
   ]
  },
  {
   "cell_type": "code",
   "execution_count": 19,
   "id": "ad49e978-552c-41dc-9606-0b4e255a94c1",
   "metadata": {},
   "outputs": [
    {
     "name": "stdout",
     "output_type": "stream",
     "text": [
      "22 is even\n"
     ]
    }
   ],
   "source": [
    "class number:\n",
    "    even = 0\n",
    "    def check(self,num):\n",
    "        if num%2==0:\n",
    "            self.even=1\n",
    "    def eo(self,num):\n",
    "        self.check(num)\n",
    "        if self.even==1:\n",
    "            print(num,\"is even\")\n",
    "        else:\n",
    "            print(num,\"is odd\")\n",
    "\n",
    "n = number()\n",
    "n.eo(22)\n"
   ]
  },
  {
   "cell_type": "markdown",
   "id": "aada8412-d136-43f7-8323-9685529f3a1c",
   "metadata": {},
   "source": [
    "segregate the even and odd parameters in a list and print even list and odd list seperately using a class \"number\" \n",
    "n1 = number(21)\n",
    "n2 = number(32)\n",
    "n3 = number(43)\n",
    "n4 = number(54)\n",
    "n5 = number(65)\n",
    "\n",
    "output: even numbers:[32,54]\n",
    "odd numbers:[21,43,65]"
   ]
  },
  {
   "cell_type": "code",
   "execution_count": 23,
   "id": "86d22fbd-f703-45a3-946c-ca0fa2aced3a",
   "metadata": {},
   "outputs": [
    {
     "name": "stdout",
     "output_type": "stream",
     "text": [
      "Even numbers: [32, 54]\n",
      "Odd numbers: [21, 43, 65]\n"
     ]
    }
   ],
   "source": [
    "class number():\n",
    "    evens = []\n",
    "    odds = []\n",
    "    \n",
    "    def __init__(self,num):\n",
    "        self.num=num\n",
    "        if num%2==0:\n",
    "            number.evens.append(num)\n",
    "        else:\n",
    "            number.odds.append(num)\n",
    "            \n",
    "n1 = number(21)\n",
    "n2=number(32)\n",
    "n3=number(43)\n",
    "n4=number(54)\n",
    "n5=number(65)\n",
    "print(\"Even numbers:\",number.evens)\n",
    "print(\"Odd numbers:\",number.odds)"
   ]
  },
  {
   "cell_type": "code",
   "execution_count": 33,
   "id": "f6cc3a85-4a9d-48fd-9a67-e9abb2036233",
   "metadata": {},
   "outputs": [
    {
     "name": "stdout",
     "output_type": "stream",
     "text": [
      "object var: 10\n",
      "class  var: 1\n",
      "object var: 20\n",
      "class  var: 2\n",
      "object var: 30\n",
      "class  var: 3\n",
      "object with 10 is going out of scope \n",
      "object with 20 is going out of scope \n",
      "object with 30 is going out of scope \n"
     ]
    }
   ],
   "source": [
    "#delete method- __del__()\n",
    "class abc():\n",
    "    cv = 0\n",
    "    def __init__(self,var):\n",
    "        abc.cv+=1\n",
    "        self.var=var\n",
    "        print(\"object var:\",var)\n",
    "        print(\"class  var:\",abc.cv)\n",
    "    def __del__(self):\n",
    "        abc.cv-=1\n",
    "        print(\"object with %d is going out of scope \"%self.var)\n",
    "        \n",
    "obj1=abc(10)\n",
    "obj2=abc(20)\n",
    "obj3=abc(30)\n",
    "del obj1\n",
    "del obj2\n",
    "del obj3"
   ]
  },
  {
   "cell_type": "markdown",
   "id": "92580fab-8b8c-4e22-85ca-5cfa4db616cd",
   "metadata": {},
   "source": [
    "__repr__\n",
    "__cmp__\n",
    "__len__ "
   ]
  },
  {
   "cell_type": "code",
   "execution_count": 37,
   "id": "a67619dc-f3c4-4f4f-8c78-fa794ab5e82c",
   "metadata": {},
   "outputs": [
    {
     "name": "stdout",
     "output_type": "stream",
     "text": [
      "The value stored in the object is : 10\n",
      "The length of name stored in object : 6\n",
      "Second value is less than first value\n"
     ]
    }
   ],
   "source": [
    "class abc():\n",
    "    def __init__(self,name,var):\n",
    "        self.name=name\n",
    "        self.var=var\n",
    "    def __repr__(self):\n",
    "        return repr(self.var)\n",
    "    def __len__(self):\n",
    "        return len(self.name)\n",
    "    def __cmp__(self,obj):\n",
    "        return self.var-obj.var\n",
    "obj=abc(\"abcdef\",10)\n",
    "print(\"The value stored in the object is :\",repr(obj))\n",
    "print(\"The length of name stored in object :\",len(obj))\n",
    "obj1=abc(\"ghijkl\",1)\n",
    "val=obj.__cmp__(obj1)\n",
    "if val==0:\n",
    "    print(\"Both values are equal\")\n",
    "elif val==-1:\n",
    "    print(\"First value is less than second value\")\n",
    "else:\n",
    "    print(\"Second value is less than first value\")\n",
    "        "
   ]
  },
  {
   "cell_type": "markdown",
   "id": "8761a379-e8ef-40b4-b843-c7b4ae713799",
   "metadata": {},
   "source": [
    "1. __call__() -- instance can be directly called\n",
    "2. __lt__(), __le__(), __gt__(), __ge__(), __eq__(), __ne__()\n",
    "3. __hash__() --- decides data structure( obj/set/dict)\n",
    "4. __iter__()\n",
    "5. __getitem__(), __setitem__()"
   ]
  },
  {
   "cell_type": "code",
   "execution_count": null,
   "id": "876a3efc-08d3-4c9d-8d06-de231a7b3828",
   "metadata": {},
   "outputs": [],
   "source": [
    "class numbers:\n",
    "    def __init__(self,mylist):\n",
    "        self.mylist=mylist\n",
    "    def __getitem__(self,index):\n",
    "        return self.mylist[index]\n",
    "    def __setitem__(self,index,val):\n",
    "        self.mylist[index]=val\n",
    "numlist=numbers([1,2,3,4,"
   ]
  }
 ],
 "metadata": {
  "kernelspec": {
   "display_name": "Python 3 (ipykernel)",
   "language": "python",
   "name": "python3"
  },
  "language_info": {
   "codemirror_mode": {
    "name": "ipython",
    "version": 3
   },
   "file_extension": ".py",
   "mimetype": "text/x-python",
   "name": "python",
   "nbconvert_exporter": "python",
   "pygments_lexer": "ipython3",
   "version": "3.12.7"
  }
 },
 "nbformat": 4,
 "nbformat_minor": 5
}
