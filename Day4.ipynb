{
 "cells": [
  {
   "cell_type": "code",
   "execution_count": 3,
   "id": "6a973438-6092-4aad-9da2-98f93d973e33",
   "metadata": {},
   "outputs": [
    {
     "name": "stdout",
     "output_type": "stream",
     "text": [
      "Base Class-2\n",
      "Base Class-1\n",
      "Derived class from both classes\n"
     ]
    }
   ],
   "source": [
    "#multiple inheritance\n",
    "class base1(object):\n",
    "    def __init__(self):\n",
    "        super(base1,self).__init__()\n",
    "        print(\"Base Class-1\")\n",
    "class base2(object):\n",
    "    def __init__(self):\n",
    "        super(base2,self).__init__()\n",
    "        print(\"Base Class-2\")\n",
    "class derived(base1,base2):\n",
    "    def __init__(self):\n",
    "        super(derived,self).__init__()\n",
    "        print(\"Derived class from both classes\")\n",
    "d=derived()"
   ]
  },
  {
   "cell_type": "markdown",
   "id": "7e56aa80-3b29-4db9-978d-5ad6fcb65f00",
   "metadata": {},
   "source": [
    "Initialize classes addition,multiplication in a calculator and pass the values from main program to the super class where the sub classes addition and multiplication were triggered and return the outputs respectively.\n",
    "1. take derived class calc\n",
    "2. from derived class call subclasses add and mul\n",
    "3. return the values after math to the object\n",
    "4. manual values of both numbers considered within the obj"
   ]
  },
  {
   "cell_type": "code",
   "execution_count": 9,
   "id": "1c88fd01-9bec-4ec0-a092-8dbe1ed0d7ff",
   "metadata": {},
   "outputs": [
    {
     "name": "stdin",
     "output_type": "stream",
     "text": [
      "enter the value of a: 2\n",
      "enter the value of b: 4\n"
     ]
    },
    {
     "name": "stdout",
     "output_type": "stream",
     "text": [
      "Addition class is also initialized by receiving a,b from obj\n",
      "multiplication also initialized\n",
      "clac class initialized\n",
      "sum: 6\n",
      "product 8\n"
     ]
    }
   ],
   "source": [
    "class addition:\n",
    "    def __init__(self,a,b):\n",
    "        self.a=a\n",
    "        self.b=b\n",
    "        print(\"Addition class is also initialized by receiving a,b from obj\")\n",
    "    def add(self):\n",
    "        return self.a+self.b\n",
    "class multiplication:\n",
    "    def __init__(self,a,b):\n",
    "        self.a=a\n",
    "        self.b=b\n",
    "        print(\"multiplication also initialized\")\n",
    "    def mul(self):\n",
    "        return self.a*self.b\n",
    "class calc(addition,multiplication):\n",
    "     def __init__(self,a,b):\n",
    "         addition.__init__(self,a,b)\n",
    "         multiplication.__init__(self,a,b)\n",
    "         print(\"clac class initialized\")\n",
    "         \n",
    "        \n",
    "x=int(input(\"enter the value of a:\"))\n",
    "y=int(input(\"enter the value of b:\"))\n",
    "c=calc(x,y)\n",
    "print(\"sum:\",c.add())\n",
    "print(\"product\",c.mul())"
   ]
  },
  {
   "cell_type": "code",
   "execution_count": 13,
   "id": "37ef2255-53a5-4288-b05e-fe2fe66b56de",
   "metadata": {},
   "outputs": [
    {
     "name": "stdin",
     "output_type": "stream",
     "text": [
      "enter a value: 2\n"
     ]
    },
    {
     "name": "stdout",
     "output_type": "stream",
     "text": [
      "square: 4\n",
      "cube: 8\n"
     ]
    }
   ],
   "source": [
    "class square:\n",
    "    def __init__(self,a):\n",
    "        self.a=a\n",
    "    def sq(self):\n",
    "        return self.a*self.a\n",
    "class cube:\n",
    "    def __init__(self,a):\n",
    "        self.a=a\n",
    "    def cb(self):\n",
    "        return self.a*self.a*self.a\n",
    "class sum(square,cube):\n",
    "    def __init__(self,a):\n",
    "        square.__init__(self,a)\n",
    "        cube.__init__(self,a)\n",
    "\n",
    "x= int(input(\"enter a value:\"))\n",
    "c=sum(x)\n",
    "print(\"square:\",c.sq())\n",
    "print(\"cube:\",c.cb())\n",
    "print(\"sum:\",\n"
   ]
  },
  {
   "cell_type": "code",
   "execution_count": 17,
   "id": "b99d5e36-c921-4c3c-95ad-b311fa126506",
   "metadata": {},
   "outputs": [
    {
     "name": "stdout",
     "output_type": "stream",
     "text": [
      "name.....\n",
      "Phd\n",
      "Experience.....15years\n"
     ]
    }
   ],
   "source": [
    "#multi-level inheritance\n",
    "class person:\n",
    "    def name(self):\n",
    "        print(\"name.....\")\n",
    "class teacher(person):         #derived class\n",
    "    def qualification(self):\n",
    "        print('Phd')\n",
    "class hod(teacher):\n",
    "    def exp(self):\n",
    "        print('Experience.....15years')\n",
    "head=hod()\n",
    "head.name()\n",
    "head.qualification()\n",
    "head.exp()\n",
    "\n",
    "\n",
    "\n"
   ]
  },
  {
   "cell_type": "code",
   "execution_count": 31,
   "id": "3e24869f-5535-47cc-8863-c915fcdcb4aa",
   "metadata": {},
   "outputs": [
    {
     "name": "stdout",
     "output_type": "stream",
     "text": [
      "n initialized\n",
      "Square: 9\n",
      "cube: 27\n"
     ]
    }
   ],
   "source": [
    "#multi-level inheritance cubes and squares of an obj\n",
    "class num:\n",
    "    def __init__(self,n):\n",
    "        self.n=n\n",
    "        print(\"n initialized\")\n",
    "class sq(num):\n",
    "    def square(self):\n",
    "        return self.n**2\n",
    "class cu(sq):\n",
    "    def cube(self):\n",
    "        return self.n**3\n",
    "c=cu(3)\n",
    "print(\"Square:\",c.square())\n",
    "print(\"cube:\",c.cube())\n"
   ]
  },
  {
   "cell_type": "code",
   "execution_count": 35,
   "id": "b622b260-b7d5-41c2-88a2-9964c1a46f20",
   "metadata": {},
   "outputs": [
    {
     "name": "stdout",
     "output_type": "stream",
     "text": [
      "double 8\n",
      "triple 6\n"
     ]
    }
   ],
   "source": [
    "#hierarchy inheritance\n",
    "class number:\n",
    "    def __init__(self,num):\n",
    "        self.num=num\n",
    "    def get_number(self):\n",
    "        return self.num\n",
    "class double(number):\n",
    "    def result(self):\n",
    "        return self.get_number()*2\n",
    "class triple(number):\n",
    "    def result(self):\n",
    "        return self.get_number()*3\n",
    "d=double(4)\n",
    "print(\"double\",d.result())\n",
    "t=triple(2)\n",
    "print(\"triple\",t.result())"
   ]
  },
  {
   "cell_type": "code",
   "execution_count": 37,
   "id": "261934cd-593c-403c-9ff0-e09ca8b62dad",
   "metadata": {},
   "outputs": [
    {
     "name": "stdout",
     "output_type": "stream",
     "text": [
      "Sweet Vitamin-A yellow\n",
      "sour and sweet Vitamin-C orange\n"
     ]
    }
   ],
   "source": [
    "#abstract class\n",
    "class fruit:\n",
    "    def taste(self):\n",
    "        raise NotImplementedError()\n",
    "    def vitamin(self):\n",
    "        raise NotImplementedError()\n",
    "    def color(self):\n",
    "        raise NotImplementedError()\n",
    "class mango(fruit):\n",
    "    def taste(self):\n",
    "        return \"Sweet\"\n",
    "    def vitamin(self):\n",
    "        return \"Vitamin-A\"\n",
    "    def color(self):\n",
    "        return \"yellow\"\n",
    "        \n",
    "class orange(fruit):\n",
    "    def taste(self):\n",
    "        return \"sour and sweet\"\n",
    "    def vitamin(self):\n",
    "        return \"Vitamin-C\"\n",
    "    def color(self):\n",
    "        return \"orange\"\n",
    "Alphanso=mango()\n",
    "print(Alphanso.taste(),Alphanso.vitamin(),Alphanso.color())\n",
    "org=orange()\n",
    "print(org.taste(),org.vitamin(),org.color())"
   ]
  },
  {
   "cell_type": "code",
   "execution_count": null,
   "id": "f22b8987-2d55-473b-8699-718b7a97b9f6",
   "metadata": {},
   "outputs": [],
   "source": []
  }
 ],
 "metadata": {
  "kernelspec": {
   "display_name": "Python 3 (ipykernel)",
   "language": "python",
   "name": "python3"
  },
  "language_info": {
   "codemirror_mode": {
    "name": "ipython",
    "version": 3
   },
   "file_extension": ".py",
   "mimetype": "text/x-python",
   "name": "python",
   "nbconvert_exporter": "python",
   "pygments_lexer": "ipython3",
   "version": "3.12.7"
  }
 },
 "nbformat": 4,
 "nbformat_minor": 5
}
