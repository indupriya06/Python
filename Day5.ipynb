{
 "cells": [
  {
   "cell_type": "code",
   "execution_count": 2,
   "id": "8495001e-04f6-4519-859d-d2639e36646d",
   "metadata": {},
   "outputs": [
    {
     "name": "stdout",
     "output_type": "stream",
     "text": [
      "Hello Henry\n",
      "Hello people\n"
     ]
    }
   ],
   "source": [
    "#Polymorphism\n",
    "#overloading sample\n",
    "def hi(name = 'Henry'):\n",
    "    print(\"Hello\", name)\n",
    "hi()\n",
    "hi('people')"
   ]
  },
  {
   "cell_type": "code",
   "execution_count": 6,
   "id": "0537b2f5-d39e-430c-8d80-78776dbddbcf",
   "metadata": {},
   "outputs": [
    {
     "name": "stdout",
     "output_type": "stream",
     "text": [
      "35\n"
     ]
    }
   ],
   "source": [
    "#multiple arguments overloading\n",
    "def abc(*args):\n",
    "    return sum(args)\n",
    "print(abc(12,23))"
   ]
  },
  {
   "cell_type": "code",
   "execution_count": 14,
   "id": "464bccec-3bf8-4565-9b7c-183e84c30e3c",
   "metadata": {},
   "outputs": [
    {
     "name": "stdout",
     "output_type": "stream",
     "text": [
      "not data\n",
      "Name:Henry\n",
      "Name:Jack, Age:21\n"
     ]
    },
    {
     "data": {
      "text/plain": [
       "<__main__.student at 0x2dd7f1a1370>"
      ]
     },
     "execution_count": 14,
     "metadata": {},
     "output_type": "execute_result"
    }
   ],
   "source": [
    "#simple overloading using class with constructor\n",
    "class student:\n",
    "    def __init__(self,name=None,age=None):\n",
    "        if name and age:\n",
    "            print(f\"Name:{name}, Age:{age}\")\n",
    "        elif name:\n",
    "            print(f\"Name:{name}\")\n",
    "        else:\n",
    "            print(\"not data\")\n",
    "\n",
    "        \n",
    "\n",
    "\n",
    "\n",
    "\n",
    "\n",
    "student()\n",
    "student('Henry')\n",
    "student('Jack',21)"
   ]
  },
  {
   "cell_type": "code",
   "execution_count": 16,
   "id": "a852bd0b-5feb-4038-81d7-229899f82ffa",
   "metadata": {},
   "outputs": [
    {
     "name": "stdout",
     "output_type": "stream",
     "text": [
      "True\n",
      "False\n"
     ]
    }
   ],
   "source": [
    "'''isinstance()'''\n",
    "n=39\n",
    "print(isinstance(n,int))\n",
    "print(isinstance(n,float))"
   ]
  },
  {
   "cell_type": "code",
   "execution_count": 18,
   "id": "df2b1bc3-474f-439a-ab58-10427ffc6ffc",
   "metadata": {},
   "outputs": [
    {
     "name": "stdout",
     "output_type": "stream",
     "text": [
      "True\n",
      "True\n"
     ]
    }
   ],
   "source": [
    "class pet:\n",
    "    pass\n",
    "class dog(pet):\n",
    "    pass\n",
    "d=dog()\n",
    "print(isinstance(d,dog))\n",
    "print(isinstance(d,pet))"
   ]
  },
  {
   "cell_type": "code",
   "execution_count": 20,
   "id": "8855a369-009d-458b-b66f-7ee002619e8a",
   "metadata": {},
   "outputs": [
    {
     "name": "stdout",
     "output_type": "stream",
     "text": [
      "4,7\n"
     ]
    }
   ],
   "source": [
    "#overloading with operators\n",
    "class val:\n",
    "    def __init__(self,x,y):\n",
    "        self.x=x\n",
    "        self.y=y\n",
    "    def __add__(self,ol):\n",
    "        return val(self.x+ol.x, self.y+ol.y)\n",
    "    def __str__(self):\n",
    "        return f\"{self.x},{self.y}\"\n",
    "a = val(1,2)\n",
    "b = val(3,5)\n",
    "print(a+b)"
   ]
  },
  {
   "cell_type": "code",
   "execution_count": 52,
   "id": "9fc616ef-d75d-481b-ba09-15993ba59fce",
   "metadata": {},
   "outputs": [
    {
     "name": "stdout",
     "output_type": "stream",
     "text": [
      "result: 4 + 6i\n"
     ]
    }
   ],
   "source": [
    "'''code for add two complex numbers, where imaginary numbers and real numbers to be evaluated seperately with __add__() method and\n",
    "error exception with this value where unsupportive data type is encountered\n",
    "a=1+2i\n",
    "b=3+4i\n",
    "output: 4+6i\n",
    "'''\n",
    "class complex:\n",
    "    def __init__(self1, r=0,i=0):\n",
    "        self1.r=r\n",
    "        self1.i = i\n",
    "    def __add__(self1,self2):\n",
    "        if isinstance(self1,complex) and isinstance(self2,complex):\n",
    "            return complex(self1.r+self2.r, self1.i+self2.i)\n",
    "        else:\n",
    "            raise TypeError(\"Unsupported operand-type\")\n",
    "    def __str__(self):\n",
    "        return f\"{self.r} + {self.i}i\"\n",
    "\n",
    "a = complex(1,2)\n",
    "b = complex(3,4)\n",
    "print(\"result:\",a+b)"
   ]
  },
  {
   "cell_type": "code",
   "execution_count": 40,
   "id": "febe9fc2-8e3f-46f6-b6bd-6f5d133ad5cc",
   "metadata": {},
   "outputs": [
    {
     "name": "stdout",
     "output_type": "stream",
     "text": [
      "Animal sounds\n"
     ]
    }
   ],
   "source": [
    "#overriding redefine the child class which is already exists\n",
    "class pet:\n",
    "    def sound(self):\n",
    "        print(\"Animal sounds\")\n",
    "class dog(pet):\n",
    "    def sound(self):\n",
    "        super().sound()  #calling parent method\n",
    "        print(\"Barks!\")\n",
    "a=pet()\n",
    "a.sound()\n"
   ]
  },
  {
   "cell_type": "code",
   "execution_count": 54,
   "id": "e5321bac-af6e-44cd-b8f2-f3033e07c12d",
   "metadata": {},
   "outputs": [
    {
     "name": "stdout",
     "output_type": "stream",
     "text": [
      "Student constructor\n",
      "person constructor\n"
     ]
    }
   ],
   "source": [
    "#constructor overriding:\n",
    "class student:\n",
    "    def __init__(self,name):\n",
    "        self.name=name\n",
    "        print(\"Student constructor\")\n",
    "class person(student):\n",
    "    def __init__(self,name,grade):\n",
    "        super().__init__(name)\n",
    "        self.grade=grade\n",
    "        print(\"person constructor\")\n",
    "s=person('vijay','f')\n"
   ]
  },
  {
   "cell_type": "code",
   "execution_count": 60,
   "id": "8c74ac0f-ccd4-4739-901d-ad5c0541e2be",
   "metadata": {},
   "outputs": [
    {
     "name": "stdout",
     "output_type": "stream",
     "text": [
      "Barks...\n",
      "meow...\n",
      "Animal sound\n"
     ]
    }
   ],
   "source": [
    "#method overriding by a polymorphism eval\n",
    "class pet:\n",
    "    def sound(self):\n",
    "        print(\"Animal sound\")\n",
    "class dog:\n",
    "    def sound(self):\n",
    "        print(\"Barks...\")\n",
    "class cat:\n",
    "    def sound(self):\n",
    "        print(\"meow...\")\n",
    "pets=[dog(), cat(), pet()]\n",
    "for p in pets:\n",
    "    p.sound()\n",
    "\n"
   ]
  },
  {
   "cell_type": "code",
   "execution_count": 68,
   "id": "ebd212a3-1697-4801-b503-496a3c45f303",
   "metadata": {},
   "outputs": [
    {
     "name": "stdin",
     "output_type": "stream",
     "text": [
      "Enter radius: 5\n",
      "enter the side: 4\n"
     ]
    },
    {
     "name": "stdout",
     "output_type": "stream",
     "text": [
      "16\n"
     ]
    },
    {
     "ename": "NameError",
     "evalue": "name 'radius' is not defined",
     "output_type": "error",
     "traceback": [
      "\u001b[1;31m---------------------------------------------------------------------------\u001b[0m",
      "\u001b[1;31mNameError\u001b[0m                                 Traceback (most recent call last)",
      "Cell \u001b[1;32mIn[68], line 28\u001b[0m\n\u001b[0;32m     25\u001b[0m circle \u001b[38;5;241m=\u001b[39mCircle(r)\n\u001b[0;32m     27\u001b[0m \u001b[38;5;28mprint\u001b[39m(square\u001b[38;5;241m.\u001b[39marea())\n\u001b[1;32m---> 28\u001b[0m \u001b[38;5;28mprint\u001b[39m(circle\u001b[38;5;241m.\u001b[39marea())\n",
      "Cell \u001b[1;32mIn[68], line 18\u001b[0m, in \u001b[0;36mCircle.area\u001b[1;34m(self)\u001b[0m\n\u001b[0;32m     17\u001b[0m \u001b[38;5;28;01mdef\u001b[39;00m \u001b[38;5;21marea\u001b[39m(\u001b[38;5;28mself\u001b[39m):\n\u001b[1;32m---> 18\u001b[0m     \u001b[38;5;28;01mreturn\u001b[39;00m pi\u001b[38;5;241m*\u001b[39mradius\u001b[38;5;241m*\u001b[39mradius\n",
      "\u001b[1;31mNameError\u001b[0m: name 'radius' is not defined"
     ]
    }
   ],
   "source": [
    "'''code for overriding different parameters in parent method by calculating the area of a circle and square from a parent class shape\n",
    "pass side 4 for square and radius 5 for circle.'''\n",
    "from math import pi\n",
    "class shape:\n",
    "    def area(self):\n",
    "        return \"Area\"\n",
    "\n",
    "class Square(shape):\n",
    "    def __init__(self,side):\n",
    "        self.side=side\n",
    "    def area(self):\n",
    "        return self.side*self.side\n",
    "        \n",
    "class Circle(shape):\n",
    "    def __init__(self,radius):\n",
    "        self.radius=radius\n",
    "    def area(self):\n",
    "        return pi*(radius**2)\n",
    "\n",
    "\n",
    "r=int(input(\"Enter radius:\"))\n",
    "s=int(input(\"enter the side:\"))\n",
    "\n",
    "square = Square(s)\n",
    "circle =Circle(r)\n",
    "\n",
    "print(square.area())\n",
    "print(circle.area())"
   ]
  },
  {
   "cell_type": "code",
   "execution_count": null,
   "id": "4c00ee08-165e-4fd6-a69f-2cfd18bbe6c8",
   "metadata": {},
   "outputs": [],
   "source": []
  }
 ],
 "metadata": {
  "kernelspec": {
   "display_name": "Python 3 (ipykernel)",
   "language": "python",
   "name": "python3"
  },
  "language_info": {
   "codemirror_mode": {
    "name": "ipython",
    "version": 3
   },
   "file_extension": ".py",
   "mimetype": "text/x-python",
   "name": "python",
   "nbconvert_exporter": "python",
   "pygments_lexer": "ipython3",
   "version": "3.12.7"
  }
 },
 "nbformat": 4,
 "nbformat_minor": 5
}
